{
  "nbformat": 4,
  "nbformat_minor": 0,
  "metadata": {
    "colab": {
      "provenance": [],
      "gpuType": "T4",
      "authorship_tag": "ABX9TyN48qirF5DbGdNoZ7IHxZOi",
      "include_colab_link": true
    },
    "kernelspec": {
      "name": "python3",
      "display_name": "Python 3"
    },
    "language_info": {
      "name": "python"
    },
    "accelerator": "GPU"
  },
  "cells": [
    {
      "cell_type": "markdown",
      "metadata": {
        "id": "view-in-github",
        "colab_type": "text"
      },
      "source": [
        "<a href=\"https://colab.research.google.com/github/ikhlaqahmad1/CS6v81/blob/main/YOLOv8.ipynb\" target=\"_parent\"><img src=\"https://colab.research.google.com/assets/colab-badge.svg\" alt=\"Open In Colab\"/></a>"
      ]
    },
    {
      "cell_type": "code",
      "execution_count": null,
      "metadata": {
        "id": "0N0k937Lcn6X"
      },
      "outputs": [],
      "source": [
        "from google.colab import drive\n",
        "drive.mount('/content/gdrive', force_remount=True)"
      ]
    },
    {
      "cell_type": "code",
      "source": [
        "!cp /content/gdrive/MyDrive/YOLO\\ dataset/data.zip /content/"
      ],
      "metadata": {
        "id": "jRXoLcnJE72Q"
      },
      "execution_count": null,
      "outputs": []
    },
    {
      "cell_type": "code",
      "source": [
        "!unzip /content/data.zip -d /content/"
      ],
      "metadata": {
        "id": "714URBk8hrEW"
      },
      "execution_count": null,
      "outputs": []
    },
    {
      "cell_type": "code",
      "source": [
        "import os\n",
        "import random\n",
        "import shutil\n",
        "from pathlib import Path\n",
        "\n",
        "# Paths\n",
        "data_dir = Path(\"data\")  # your dataset folder\n",
        "images_dir = data_dir / \"images\"\n",
        "labels_dir = data_dir / \"labels\"\n",
        "\n",
        "train_images_dir = data_dir / \"train\" / \"images\"\n",
        "train_labels_dir = data_dir / \"train\" / \"labels\"\n",
        "val_images_dir   = data_dir / \"val\" / \"images\"\n",
        "val_labels_dir   = data_dir / \"val\" / \"labels\"\n",
        "test_images_dir  = data_dir / \"test\" / \"images\"\n",
        "test_labels_dir  = data_dir / \"test\" / \"labels\"\n",
        "\n",
        "# Create output dirs\n",
        "for d in [train_images_dir, train_labels_dir, val_images_dir, val_labels_dir, test_images_dir, test_labels_dir]:\n",
        "    d.mkdir(parents=True, exist_ok=True)\n",
        "\n",
        "# Collect images (jpg + png, change if needed)\n",
        "image_files = list(images_dir.glob(\"*.jpg\")) + list(images_dir.glob(\"*.png\"))\n",
        "\n",
        "# Shuffle\n",
        "random.shuffle(image_files)\n",
        "\n",
        "# Split indices\n",
        "n = len(image_files)\n",
        "train_split = int(0.8 * n)\n",
        "val_split   = int(0.9 * n)  # 80% train, 10% val, 10% test\n",
        "\n",
        "train_files = image_files[:train_split]\n",
        "val_files   = image_files[train_split:val_split]\n",
        "test_files  = image_files[val_split:]\n",
        "\n",
        "def copy_files(image_list, images_out, labels_out):\n",
        "    for img_path in image_list:\n",
        "        label_path = labels_dir / (img_path.stem + \".txt\")\n",
        "\n",
        "        # Copy image\n",
        "        shutil.copy(img_path, images_out / img_path.name)\n",
        "\n",
        "        # Copy label if it exists\n",
        "        if label_path.exists():\n",
        "            shutil.copy(label_path, labels_out / label_path.name)\n",
        "\n",
        "# Copy splits\n",
        "copy_files(train_files, train_images_dir, train_labels_dir)\n",
        "copy_files(val_files, val_images_dir, val_labels_dir)\n",
        "copy_files(test_files, test_images_dir, test_labels_dir)\n",
        "\n",
        "print(f\"✅ Done! {len(train_files)} train, {len(val_files)} val, {len(test_files)} test images.\")"
      ],
      "metadata": {
        "colab": {
          "base_uri": "https://localhost:8080/"
        },
        "id": "x9I0_bS9CBt7",
        "outputId": "9452ad64-62ad-4a6f-a4db-083d28facf6d"
      },
      "execution_count": null,
      "outputs": [
        {
          "output_type": "stream",
          "name": "stdout",
          "text": [
            "Done! 2709 files in 'dataset/training' and 301 in 'dataset/testing'.\n"
          ]
        }
      ]
    },
    {
      "cell_type": "code",
      "source": [
        "!pip install ultralytics"
      ],
      "metadata": {
        "id": "JdSLkobyMU02"
      },
      "execution_count": null,
      "outputs": []
    },
    {
      "cell_type": "code",
      "source": [
        "from ultralytics import YOLO\n",
        "import os\n",
        "from IPython.display import display, Image\n",
        "from IPython import display\n",
        "display.clear_output()\n",
        "!yolo mode=checks"
      ],
      "metadata": {
        "id": "L-zF15IBiPoa"
      },
      "execution_count": null,
      "outputs": []
    }
  ]
}